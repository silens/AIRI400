{
 "cells": [
  {
   "cell_type": "markdown",
   "metadata": {},
   "source": [
    "Sample code for AIRI400 Perceptron class.\n",
    "The original code comes from Sebastian Reschka's blog (http://sebastianraschka.com/Articles/2015_singlelayer_neurons.html).<br/>\n",
    "Slightly modified for the lecture. -skimaza"
   ]
  },
  {
   "cell_type": "code",
   "execution_count": 1,
   "metadata": {
    "collapsed": true
   },
   "outputs": [],
   "source": [
    "import numpy as np"
   ]
  },
  {
   "cell_type": "code",
   "execution_count": 2,
   "metadata": {
    "collapsed": true
   },
   "outputs": [],
   "source": [
    "weights = []\n",
    "errors_log = []\n",
    "epochs = 25\n",
    "eta = 0.01\n",
    "data = np.array([[3, 3, 1], [3.5, 2.5, 1], [1, 0.5, -1], [0.5, 0.75, -1], [2, 1.5, -1], [1.5, 2, -1], [2.3, 1.8, 1]])"
   ]
  },
  {
   "cell_type": "code",
   "execution_count": 3,
   "metadata": {
    "collapsed": false,
    "scrolled": true
   },
   "outputs": [
    {
     "data": {
      "text/plain": [
       "<matplotlib.legend.Legend at 0x2689ad91f60>"
      ]
     },
     "execution_count": 3,
     "metadata": {},
     "output_type": "execute_result"
    },
    {
     "data": {
      "image/png": "[encoded data removed]",
      "text/plain": [
       "<matplotlib.figure.Figure at 0x2689a023400>"
      ]
     },
     "metadata": {},
     "output_type": "display_data"
    }
   ],
   "source": [
    "%matplotlib inline\n",
    "import matplotlib.pyplot as plt\n",
    "\n",
    "pos = data[[data[:, 2] == 1]]\n",
    "neg = data[[data[:, 2] == -1]]\n",
    "plt.scatter(pos[:,0], pos[:, 1], label=\"pos\")\n",
    "plt.scatter(neg[:,0], neg[:, 1], label=\"neg\")\n",
    "plt.xlabel(\"x1\")\n",
    "plt.ylabel(\"x2\")\n",
    "plt.legend(loc=2)"
   ]
  },
  {
   "cell_type": "code",
   "execution_count": 4,
   "metadata": {
    "collapsed": true
   },
   "outputs": [],
   "source": [
    "def train(X, y, epochs=epochs, eta=eta):\n",
    "    global weights\n",
    "    global errors_log\n",
    "    weights = np.zeros(1 + X.shape[1])\n",
    "    print(\"Initial weights\", weights)\n",
    "    errors_log = []\n",
    "\n",
    "    for i in range(epochs):\n",
    "        errors = 0\n",
    "        print(\"EPOCHS\", i+1)\n",
    "        for xi, target in zip(X, y):\n",
    "            update = eta * (target - predict(xi))\n",
    "            print(xi, \"target\", target, \"sum\", net_input(xi), \"update\", update)\n",
    "            if update != 0:\n",
    "                weights[1:] +=  update * xi\n",
    "                weights[0] +=  update\n",
    "                print(\"Updated WEIGHTS\", weights)\n",
    "                errors += int(update != 0.0)\n",
    "        errors_log.append(errors)\n",
    "    return"
   ]
  },
  {
   "cell_type": "code",
   "execution_count": 5,
   "metadata": {
    "collapsed": true
   },
   "outputs": [],
   "source": [
    "def net_input(X):\n",
    "    global weights\n",
    "    return np.dot(X, weights[1:]) + weights[0]"
   ]
  },
  {
   "cell_type": "code",
   "execution_count": 6,
   "metadata": {
    "collapsed": true
   },
   "outputs": [],
   "source": [
    "def predict(X):\n",
    "    return np.where(net_input(X) > 0.0, 1, -1)"
   ]
  },
  {
   "cell_type": "code",
   "execution_count": 7,
   "metadata": {
    "collapsed": false
   },
   "outputs": [
    {
     "data": {
      "text/plain": [
       "array([[ 3.  ,  3.  ],\n",
       "       [ 3.5 ,  2.5 ],\n",
       "       [ 1.  ,  0.5 ],\n",
       "       [ 0.5 ,  0.75],\n",
       "       [ 2.  ,  1.5 ],\n",
       "       [ 1.5 ,  2.  ],\n",
       "       [ 2.3 ,  1.8 ]])"
      ]
     },
     "execution_count": 7,
     "metadata": {},
     "output_type": "execute_result"
    }
   ],
   "source": [
    "data[:, :2]"
   ]
  },
  {
   "cell_type": "code",
   "execution_count": 8,
   "metadata": {
    "collapsed": false
   },
   "outputs": [
    {
     "data": {
      "text/plain": [
       "(7, 2)"
      ]
     },
     "execution_count": 8,
     "metadata": {},
     "output_type": "execute_result"
    }
   ],
   "source": [
    "data[:, :2].shape"
   ]
  },
  {
   "cell_type": "code",
   "execution_count": 9,
   "metadata": {
    "collapsed": false,
    "scrolled": false
   },
   "outputs": [
    {
     "name": "stdout",
     "output_type": "stream",
     "text": [
      "Initial weights [ 0.  0.  0.]\n",
      "EPOCHS 1\n",
      "[ 3.  3.] target 1.0 sum 0.0 update 0.02\n",
      "Updated WEIGHTS [ 0.02  0.06  0.06]\n",
      "[ 3.5  2.5] target 1.0 sum 0.38 update 0.0\n",
      "[ 1.   0.5] target -1.0 sum 0.11 update -0.02\n",
      "Updated WEIGHTS [ 0.    0.04  0.05]\n",
      "[ 0.5   0.75] target -1.0 sum 0.0575 update -0.02\n",
      "Updated WEIGHTS [-0.02   0.03   0.035]\n",
      "[ 2.   1.5] target -1.0 sum 0.0925 update -0.02\n",
      "Updated WEIGHTS [-0.04  -0.01   0.005]\n",
      "[ 1.5  2. ] target -1.0 sum -0.045 update 0.0\n",
      "[ 2.3  1.8] target 1.0 sum -0.054 update 0.02\n",
      "Updated WEIGHTS [-0.02   0.036  0.041]\n",
      "EPOCHS 2\n",
      "[ 3.  3.] target 1.0 sum 0.211 update 0.0\n",
      "[ 3.5  2.5] target 1.0 sum 0.2085 update 0.0\n",
      "[ 1.   0.5] target -1.0 sum 0.0365 update -0.02\n",
      "Updated WEIGHTS [-0.04   0.016  0.031]\n",
      "[ 0.5   0.75] target -1.0 sum -0.00875 update 0.0\n",
      "[ 2.   1.5] target -1.0 sum 0.0385 update -0.02\n",
      "Updated WEIGHTS [-0.06  -0.024  0.001]\n",
      "[ 1.5  2. ] target -1.0 sum -0.094 update 0.0\n",
      "[ 2.3  1.8] target 1.0 sum -0.1134 update 0.02\n",
      "Updated WEIGHTS [-0.04   0.022  0.037]\n",
      "EPOCHS 3\n",
      "[ 3.  3.] target 1.0 sum 0.137 update 0.0\n",
      "[ 3.5  2.5] target 1.0 sum 0.1295 update 0.0\n",
      "[ 1.   0.5] target -1.0 sum 0.0005 update -0.02\n",
      "Updated WEIGHTS [-0.06   0.002  0.027]\n",
      "[ 0.5   0.75] target -1.0 sum -0.03875 update 0.0\n",
      "[ 2.   1.5] target -1.0 sum -0.0155 update 0.0\n",
      "[ 1.5  2. ] target -1.0 sum -0.003 update 0.0\n",
      "[ 2.3  1.8] target 1.0 sum -0.0068 update 0.02\n",
      "Updated WEIGHTS [-0.04   0.048  0.063]\n",
      "EPOCHS 4\n",
      "[ 3.  3.] target 1.0 sum 0.293 update 0.0\n",
      "[ 3.5  2.5] target 1.0 sum 0.2855 update 0.0\n",
      "[ 1.   0.5] target -1.0 sum 0.0395 update -0.02\n",
      "Updated WEIGHTS [-0.06   0.028  0.053]\n",
      "[ 0.5   0.75] target -1.0 sum -0.00625 update 0.0\n",
      "[ 2.   1.5] target -1.0 sum 0.0755 update -0.02\n",
      "Updated WEIGHTS [-0.08  -0.012  0.023]\n",
      "[ 1.5  2. ] target -1.0 sum -0.052 update 0.0\n",
      "[ 2.3  1.8] target 1.0 sum -0.0662 update 0.02\n",
      "Updated WEIGHTS [-0.06   0.034  0.059]\n",
      "EPOCHS 5\n",
      "[ 3.  3.] target 1.0 sum 0.219 update 0.0\n",
      "[ 3.5  2.5] target 1.0 sum 0.2065 update 0.0\n",
      "[ 1.   0.5] target -1.0 sum 0.0035 update -0.02\n",
      "Updated WEIGHTS [-0.08   0.014  0.049]\n",
      "[ 0.5   0.75] target -1.0 sum -0.03625 update 0.0\n",
      "[ 2.   1.5] target -1.0 sum 0.0215 update -0.02\n",
      "Updated WEIGHTS [-0.1   -0.026  0.019]\n",
      "[ 1.5  2. ] target -1.0 sum -0.101 update 0.0\n",
      "[ 2.3  1.8] target 1.0 sum -0.1256 update 0.02\n",
      "Updated WEIGHTS [-0.08   0.02   0.055]\n",
      "EPOCHS 6\n",
      "[ 3.  3.] target 1.0 sum 0.145 update 0.0\n",
      "[ 3.5  2.5] target 1.0 sum 0.1275 update 0.0\n",
      "[ 1.   0.5] target -1.0 sum -0.0325 update 0.0\n",
      "[ 0.5   0.75] target -1.0 sum -0.02875 update 0.0\n",
      "[ 2.   1.5] target -1.0 sum 0.0425 update -0.02\n",
      "Updated WEIGHTS [-0.1   -0.02   0.025]\n",
      "[ 1.5  2. ] target -1.0 sum -0.08 update 0.0\n",
      "[ 2.3  1.8] target 1.0 sum -0.101 update 0.02\n",
      "Updated WEIGHTS [-0.08   0.026  0.061]\n",
      "EPOCHS 7\n",
      "[ 3.  3.] target 1.0 sum 0.181 update 0.0\n",
      "[ 3.5  2.5] target 1.0 sum 0.1635 update 0.0\n",
      "[ 1.   0.5] target -1.0 sum -0.0235 update 0.0\n",
      "[ 0.5   0.75] target -1.0 sum -0.02125 update 0.0\n",
      "[ 2.   1.5] target -1.0 sum 0.0635 update -0.02\n",
      "Updated WEIGHTS [-0.1   -0.014  0.031]\n",
      "[ 1.5  2. ] target -1.0 sum -0.059 update 0.0\n",
      "[ 2.3  1.8] target 1.0 sum -0.0764 update 0.02\n",
      "Updated WEIGHTS [-0.08   0.032  0.067]\n",
      "EPOCHS 8\n",
      "[ 3.  3.] target 1.0 sum 0.217 update 0.0\n",
      "[ 3.5  2.5] target 1.0 sum 0.1995 update 0.0\n",
      "[ 1.   0.5] target -1.0 sum -0.0145 update 0.0\n",
      "[ 0.5   0.75] target -1.0 sum -0.01375 update 0.0\n",
      "[ 2.   1.5] target -1.0 sum 0.0845 update -0.02\n",
      "Updated WEIGHTS [-0.1   -0.008  0.037]\n",
      "[ 1.5  2. ] target -1.0 sum -0.038 update 0.0\n",
      "[ 2.3  1.8] target 1.0 sum -0.0518 update 0.02\n",
      "Updated WEIGHTS [-0.08   0.038  0.073]\n",
      "EPOCHS 9\n",
      "[ 3.  3.] target 1.0 sum 0.253 update 0.0\n",
      "[ 3.5  2.5] target 1.0 sum 0.2355 update 0.0\n",
      "[ 1.   0.5] target -1.0 sum -0.0055 update 0.0\n",
      "[ 0.5   0.75] target -1.0 sum -0.00625 update 0.0\n",
      "[ 2.   1.5] target -1.0 sum 0.1055 update -0.02\n",
      "Updated WEIGHTS [-0.1   -0.002  0.043]\n",
      "[ 1.5  2. ] target -1.0 sum -0.017 update 0.0\n",
      "[ 2.3  1.8] target 1.0 sum -0.0272 update 0.02\n",
      "Updated WEIGHTS [-0.08   0.044  0.079]\n",
      "EPOCHS 10\n",
      "[ 3.  3.] target 1.0 sum 0.289 update 0.0\n",
      "[ 3.5  2.5] target 1.0 sum 0.2715 update 0.0\n",
      "[ 1.   0.5] target -1.0 sum 0.0035 update -0.02\n",
      "Updated WEIGHTS [-0.1    0.024  0.069]\n",
      "[ 0.5   0.75] target -1.0 sum -0.03625 update 0.0\n",
      "[ 2.   1.5] target -1.0 sum 0.0515 update -0.02\n",
      "Updated WEIGHTS [-0.12  -0.016  0.039]\n",
      "[ 1.5  2. ] target -1.0 sum -0.066 update 0.0\n",
      "[ 2.3  1.8] target 1.0 sum -0.0866 update 0.02\n",
      "Updated WEIGHTS [-0.1    0.03   0.075]\n",
      "EPOCHS 11\n",
      "[ 3.  3.] target 1.0 sum 0.215 update 0.0\n",
      "[ 3.5  2.5] target 1.0 sum 0.1925 update 0.0\n",
      "[ 1.   0.5] target -1.0 sum -0.0325 update 0.0\n",
      "[ 0.5   0.75] target -1.0 sum -0.02875 update 0.0\n",
      "[ 2.   1.5] target -1.0 sum 0.0725 update -0.02\n",
      "Updated WEIGHTS [-0.12  -0.01   0.045]\n",
      "[ 1.5  2. ] target -1.0 sum -0.045 update 0.0\n",
      "[ 2.3  1.8] target 1.0 sum -0.062 update 0.02\n",
      "Updated WEIGHTS [-0.1    0.036  0.081]\n",
      "EPOCHS 12\n",
      "[ 3.  3.] target 1.0 sum 0.251 update 0.0\n",
      "[ 3.5  2.5] target 1.0 sum 0.2285 update 0.0\n",
      "[ 1.   0.5] target -1.0 sum -0.0235 update 0.0\n",
      "[ 0.5   0.75] target -1.0 sum -0.02125 update 0.0\n",
      "[ 2.   1.5] target -1.0 sum 0.0935 update -0.02\n",
      "Updated WEIGHTS [-0.12  -0.004  0.051]\n",
      "[ 1.5  2. ] target -1.0 sum -0.024 update 0.0\n",
      "[ 2.3  1.8] target 1.0 sum -0.0374 update 0.02\n",
      "Updated WEIGHTS [-0.1    0.042  0.087]\n",
      "EPOCHS 13\n",
      "[ 3.  3.] target 1.0 sum 0.287 update 0.0\n",
      "[ 3.5  2.5] target 1.0 sum 0.2645 update 0.0\n",
      "[ 1.   0.5] target -1.0 sum -0.0145 update 0.0\n",
      "[ 0.5   0.75] target -1.0 sum -0.01375 update 0.0\n",
      "[ 2.   1.5] target -1.0 sum 0.1145 update -0.02\n",
      "Updated WEIGHTS [-0.12   0.002  0.057]\n",
      "[ 1.5  2. ] target -1.0 sum -0.003 update 0.0\n",
      "[ 2.3  1.8] target 1.0 sum -0.0128 update 0.02\n",
      "Updated WEIGHTS [-0.1    0.048  0.093]\n",
      "EPOCHS 14\n",
      "[ 3.  3.] target 1.0 sum 0.323 update 0.0\n",
      "[ 3.5  2.5] target 1.0 sum 0.3005 update 0.0\n",
      "[ 1.   0.5] target -1.0 sum -0.0055 update 0.0\n",
      "[ 0.5   0.75] target -1.0 sum -0.00625 update 0.0\n",
      "[ 2.   1.5] target -1.0 sum 0.1355 update -0.02\n",
      "Updated WEIGHTS [-0.12   0.008  0.063]\n",
      "[ 1.5  2. ] target -1.0 sum 0.018 update -0.02\n",
      "Updated WEIGHTS [-0.14  -0.022  0.023]\n",
      "[ 2.3  1.8] target 1.0 sum -0.1492 update 0.02\n",
      "Updated WEIGHTS [-0.12   0.024  0.059]\n",
      "EPOCHS 15\n",
      "[ 3.  3.] target 1.0 sum 0.129 update 0.0\n",
      "[ 3.5  2.5] target 1.0 sum 0.1115 update 0.0\n",
      "[ 1.   0.5] target -1.0 sum -0.0665 update 0.0\n",
      "[ 0.5   0.75] target -1.0 sum -0.06375 update 0.0\n",
      "[ 2.   1.5] target -1.0 sum 0.0165 update -0.02\n",
      "Updated WEIGHTS [-0.14  -0.016  0.029]\n",
      "[ 1.5  2. ] target -1.0 sum -0.106 update 0.0\n",
      "[ 2.3  1.8] target 1.0 sum -0.1246 update 0.02\n",
      "Updated WEIGHTS [-0.12   0.03   0.065]\n",
      "EPOCHS 16\n",
      "[ 3.  3.] target 1.0 sum 0.165 update 0.0\n",
      "[ 3.5  2.5] target 1.0 sum 0.1475 update 0.0\n",
      "[ 1.   0.5] target -1.0 sum -0.0575 update 0.0\n",
      "[ 0.5   0.75] target -1.0 sum -0.05625 update 0.0\n",
      "[ 2.   1.5] target -1.0 sum 0.0375 update -0.02\n",
      "Updated WEIGHTS [-0.14  -0.01   0.035]\n",
      "[ 1.5  2. ] target -1.0 sum -0.085 update 0.0\n",
      "[ 2.3  1.8] target 1.0 sum -0.1 update 0.02\n",
      "Updated WEIGHTS [-0.12   0.036  0.071]\n",
      "EPOCHS 17\n",
      "[ 3.  3.] target 1.0 sum 0.201 update 0.0\n",
      "[ 3.5  2.5] target 1.0 sum 0.1835 update 0.0\n",
      "[ 1.   0.5] target -1.0 sum -0.0485 update 0.0\n",
      "[ 0.5   0.75] target -1.0 sum -0.04875 update 0.0\n",
      "[ 2.   1.5] target -1.0 sum 0.0585 update -0.02\n",
      "Updated WEIGHTS [-0.14  -0.004  0.041]\n",
      "[ 1.5  2. ] target -1.0 sum -0.064 update 0.0\n",
      "[ 2.3  1.8] target 1.0 sum -0.0754 update 0.02\n",
      "Updated WEIGHTS [-0.12   0.042  0.077]\n",
      "EPOCHS 18\n",
      "[ 3.  3.] target 1.0 sum 0.237 update 0.0\n",
      "[ 3.5  2.5] target 1.0 sum 0.2195 update 0.0\n",
      "[ 1.   0.5] target -1.0 sum -0.0395 update 0.0\n",
      "[ 0.5   0.75] target -1.0 sum -0.04125 update 0.0\n",
      "[ 2.   1.5] target -1.0 sum 0.0795 update -0.02\n",
      "Updated WEIGHTS [-0.14   0.002  0.047]\n",
      "[ 1.5  2. ] target -1.0 sum -0.043 update 0.0\n",
      "[ 2.3  1.8] target 1.0 sum -0.0508 update 0.02\n",
      "Updated WEIGHTS [-0.12   0.048  0.083]\n",
      "EPOCHS 19\n",
      "[ 3.  3.] target 1.0 sum 0.273 update 0.0\n",
      "[ 3.5  2.5] target 1.0 sum 0.2555 update 0.0\n",
      "[ 1.   0.5] target -1.0 sum -0.0305 update 0.0\n",
      "[ 0.5   0.75] target -1.0 sum -0.03375 update 0.0\n",
      "[ 2.   1.5] target -1.0 sum 0.1005 update -0.02\n",
      "Updated WEIGHTS [-0.14   0.008  0.053]\n",
      "[ 1.5  2. ] target -1.0 sum -0.022 update 0.0\n",
      "[ 2.3  1.8] target 1.0 sum -0.0262 update 0.02\n",
      "Updated WEIGHTS [-0.12   0.054  0.089]\n",
      "EPOCHS 20\n",
      "[ 3.  3.] target 1.0 sum 0.309 update 0.0\n",
      "[ 3.5  2.5] target 1.0 sum 0.2915 update 0.0\n",
      "[ 1.   0.5] target -1.0 sum -0.0215 update 0.0\n",
      "[ 0.5   0.75] target -1.0 sum -0.02625 update 0.0\n",
      "[ 2.   1.5] target -1.0 sum 0.1215 update -0.02\n",
      "Updated WEIGHTS [-0.14   0.014  0.059]\n",
      "[ 1.5  2. ] target -1.0 sum -0.001 update 0.0\n",
      "[ 2.3  1.8] target 1.0 sum -0.0016 update 0.02\n",
      "Updated WEIGHTS [-0.12   0.06   0.095]\n",
      "EPOCHS 21\n",
      "[ 3.  3.] target 1.0 sum 0.345 update 0.0\n",
      "[ 3.5  2.5] target 1.0 sum 0.3275 update 0.0\n",
      "[ 1.   0.5] target -1.0 sum -0.0125 update 0.0\n",
      "[ 0.5   0.75] target -1.0 sum -0.01875 update 0.0\n",
      "[ 2.   1.5] target -1.0 sum 0.1425 update -0.02\n",
      "Updated WEIGHTS [-0.14   0.02   0.065]\n",
      "[ 1.5  2. ] target -1.0 sum 0.02 update -0.02\n",
      "Updated WEIGHTS [-0.16  -0.01   0.025]\n",
      "[ 2.3  1.8] target 1.0 sum -0.138 update 0.02\n",
      "Updated WEIGHTS [-0.14   0.036  0.061]\n",
      "EPOCHS 22\n",
      "[ 3.  3.] target 1.0 sum 0.151 update 0.0\n",
      "[ 3.5  2.5] target 1.0 sum 0.1385 update 0.0\n",
      "[ 1.   0.5] target -1.0 sum -0.0735 update 0.0\n",
      "[ 0.5   0.75] target -1.0 sum -0.07625 update 0.0\n",
      "[ 2.   1.5] target -1.0 sum 0.0235 update -0.02\n",
      "Updated WEIGHTS [-0.16  -0.004  0.031]\n",
      "[ 1.5  2. ] target -1.0 sum -0.104 update 0.0\n",
      "[ 2.3  1.8] target 1.0 sum -0.1134 update 0.02\n",
      "Updated WEIGHTS [-0.14   0.042  0.067]\n",
      "EPOCHS 23\n",
      "[ 3.  3.] target 1.0 sum 0.187 update 0.0\n",
      "[ 3.5  2.5] target 1.0 sum 0.1745 update 0.0\n",
      "[ 1.   0.5] target -1.0 sum -0.0645 update 0.0\n",
      "[ 0.5   0.75] target -1.0 sum -0.06875 update 0.0\n",
      "[ 2.   1.5] target -1.0 sum 0.0445 update -0.02\n",
      "Updated WEIGHTS [-0.16   0.002  0.037]\n",
      "[ 1.5  2. ] target -1.0 sum -0.083 update 0.0\n",
      "[ 2.3  1.8] target 1.0 sum -0.0888 update 0.02\n",
      "Updated WEIGHTS [-0.14   0.048  0.073]\n",
      "EPOCHS 24\n",
      "[ 3.  3.] target 1.0 sum 0.223 update 0.0\n",
      "[ 3.5  2.5] target 1.0 sum 0.2105 update 0.0\n",
      "[ 1.   0.5] target -1.0 sum -0.0555 update 0.0\n",
      "[ 0.5   0.75] target -1.0 sum -0.06125 update 0.0\n",
      "[ 2.   1.5] target -1.0 sum 0.0655 update -0.02\n",
      "Updated WEIGHTS [-0.16   0.008  0.043]\n",
      "[ 1.5  2. ] target -1.0 sum -0.062 update 0.0\n",
      "[ 2.3  1.8] target 1.0 sum -0.0642 update 0.02\n",
      "Updated WEIGHTS [-0.14   0.054  0.079]\n",
      "EPOCHS 25\n",
      "[ 3.  3.] target 1.0 sum 0.259 update 0.0\n",
      "[ 3.5  2.5] target 1.0 sum 0.2465 update 0.0\n",
      "[ 1.   0.5] target -1.0 sum -0.0465 update 0.0\n",
      "[ 0.5   0.75] target -1.0 sum -0.05375 update 0.0\n",
      "[ 2.   1.5] target -1.0 sum 0.0865 update -0.02\n",
      "Updated WEIGHTS [-0.16   0.014  0.049]\n",
      "[ 1.5  2. ] target -1.0 sum -0.041 update 0.0\n",
      "[ 2.3  1.8] target 1.0 sum -0.0396 update 0.02\n",
      "Updated WEIGHTS [-0.14   0.06   0.085]\n",
      "EPOCHS 26\n",
      "[ 3.  3.] target 1.0 sum 0.295 update 0.0\n",
      "[ 3.5  2.5] target 1.0 sum 0.2825 update 0.0\n",
      "[ 1.   0.5] target -1.0 sum -0.0375 update 0.0\n",
      "[ 0.5   0.75] target -1.0 sum -0.04625 update 0.0\n",
      "[ 2.   1.5] target -1.0 sum 0.1075 update -0.02\n",
      "Updated WEIGHTS [-0.16   0.02   0.055]\n",
      "[ 1.5  2. ] target -1.0 sum -0.02 update 0.0\n",
      "[ 2.3  1.8] target 1.0 sum -0.015 update 0.02\n",
      "Updated WEIGHTS [-0.14   0.066  0.091]\n",
      "EPOCHS 27\n",
      "[ 3.  3.] target 1.0 sum 0.331 update 0.0\n",
      "[ 3.5  2.5] target 1.0 sum 0.3185 update 0.0\n",
      "[ 1.   0.5] target -1.0 sum -0.0285 update 0.0\n",
      "[ 0.5   0.75] target -1.0 sum -0.03875 update 0.0\n",
      "[ 2.   1.5] target -1.0 sum 0.1285 update -0.02\n",
      "Updated WEIGHTS [-0.16   0.026  0.061]\n",
      "[ 1.5  2. ] target -1.0 sum 0.001 update -0.02\n",
      "Updated WEIGHTS [-0.18  -0.004  0.021]\n",
      "[ 2.3  1.8] target 1.0 sum -0.1514 update 0.02\n",
      "Updated WEIGHTS [-0.16   0.042  0.057]\n",
      "EPOCHS 28\n",
      "[ 3.  3.] target 1.0 sum 0.137 update 0.0\n",
      "[ 3.5  2.5] target 1.0 sum 0.1295 update 0.0\n",
      "[ 1.   0.5] target -1.0 sum -0.0895 update 0.0\n",
      "[ 0.5   0.75] target -1.0 sum -0.09625 update 0.0\n",
      "[ 2.   1.5] target -1.0 sum 0.0095 update -0.02\n",
      "Updated WEIGHTS [-0.18   0.002  0.027]\n",
      "[ 1.5  2. ] target -1.0 sum -0.123 update 0.0\n",
      "[ 2.3  1.8] target 1.0 sum -0.1268 update 0.02\n",
      "Updated WEIGHTS [-0.16   0.048  0.063]\n",
      "EPOCHS 29\n",
      "[ 3.  3.] target 1.0 sum 0.173 update 0.0\n",
      "[ 3.5  2.5] target 1.0 sum 0.1655 update 0.0\n",
      "[ 1.   0.5] target -1.0 sum -0.0805 update 0.0\n",
      "[ 0.5   0.75] target -1.0 sum -0.08875 update 0.0\n",
      "[ 2.   1.5] target -1.0 sum 0.0305 update -0.02\n",
      "Updated WEIGHTS [-0.18   0.008  0.033]\n",
      "[ 1.5  2. ] target -1.0 sum -0.102 update 0.0\n",
      "[ 2.3  1.8] target 1.0 sum -0.1022 update 0.02\n",
      "Updated WEIGHTS [-0.16   0.054  0.069]\n",
      "EPOCHS 30\n",
      "[ 3.  3.] target 1.0 sum 0.209 update 0.0\n",
      "[ 3.5  2.5] target 1.0 sum 0.2015 update 0.0\n",
      "[ 1.   0.5] target -1.0 sum -0.0715 update 0.0\n",
      "[ 0.5   0.75] target -1.0 sum -0.08125 update 0.0\n",
      "[ 2.   1.5] target -1.0 sum 0.0515 update -0.02\n",
      "Updated WEIGHTS [-0.18   0.014  0.039]\n",
      "[ 1.5  2. ] target -1.0 sum -0.081 update 0.0\n",
      "[ 2.3  1.8] target 1.0 sum -0.0776 update 0.02\n",
      "Updated WEIGHTS [-0.16   0.06   0.075]\n",
      "EPOCHS 31\n",
      "[ 3.  3.] target 1.0 sum 0.245 update 0.0\n",
      "[ 3.5  2.5] target 1.0 sum 0.2375 update 0.0\n",
      "[ 1.   0.5] target -1.0 sum -0.0625 update 0.0\n",
      "[ 0.5   0.75] target -1.0 sum -0.07375 update 0.0\n",
      "[ 2.   1.5] target -1.0 sum 0.0725 update -0.02\n",
      "Updated WEIGHTS [-0.18   0.02   0.045]\n",
      "[ 1.5  2. ] target -1.0 sum -0.06 update 0.0\n",
      "[ 2.3  1.8] target 1.0 sum -0.053 update 0.02\n",
      "Updated WEIGHTS [-0.16   0.066  0.081]\n",
      "EPOCHS 32\n",
      "[ 3.  3.] target 1.0 sum 0.281 update 0.0\n",
      "[ 3.5  2.5] target 1.0 sum 0.2735 update 0.0\n",
      "[ 1.   0.5] target -1.0 sum -0.0535 update 0.0\n",
      "[ 0.5   0.75] target -1.0 sum -0.06625 update 0.0\n",
      "[ 2.   1.5] target -1.0 sum 0.0935 update -0.02\n",
      "Updated WEIGHTS [-0.18   0.026  0.051]\n",
      "[ 1.5  2. ] target -1.0 sum -0.039 update 0.0\n",
      "[ 2.3  1.8] target 1.0 sum -0.0284 update 0.02\n",
      "Updated WEIGHTS [-0.16   0.072  0.087]\n",
      "EPOCHS 33\n",
      "[ 3.  3.] target 1.0 sum 0.317 update 0.0\n",
      "[ 3.5  2.5] target 1.0 sum 0.3095 update 0.0\n",
      "[ 1.   0.5] target -1.0 sum -0.0445 update 0.0\n",
      "[ 0.5   0.75] target -1.0 sum -0.05875 update 0.0\n",
      "[ 2.   1.5] target -1.0 sum 0.1145 update -0.02\n",
      "Updated WEIGHTS [-0.18   0.032  0.057]\n",
      "[ 1.5  2. ] target -1.0 sum -0.018 update 0.0\n",
      "[ 2.3  1.8] target 1.0 sum -0.0038 update 0.02\n",
      "Updated WEIGHTS [-0.16   0.078  0.093]\n",
      "EPOCHS 34\n",
      "[ 3.  3.] target 1.0 sum 0.353 update 0.0\n",
      "[ 3.5  2.5] target 1.0 sum 0.3455 update 0.0\n",
      "[ 1.   0.5] target -1.0 sum -0.0355 update 0.0\n",
      "[ 0.5   0.75] target -1.0 sum -0.05125 update 0.0\n",
      "[ 2.   1.5] target -1.0 sum 0.1355 update -0.02\n",
      "Updated WEIGHTS [-0.18   0.038  0.063]\n",
      "[ 1.5  2. ] target -1.0 sum 0.003 update -0.02\n",
      "Updated WEIGHTS [-0.2    0.008  0.023]\n",
      "[ 2.3  1.8] target 1.0 sum -0.1402 update 0.02\n",
      "Updated WEIGHTS [-0.18   0.054  0.059]\n",
      "EPOCHS 35\n",
      "[ 3.  3.] target 1.0 sum 0.159 update 0.0\n",
      "[ 3.5  2.5] target 1.0 sum 0.1565 update 0.0\n",
      "[ 1.   0.5] target -1.0 sum -0.0965 update 0.0\n",
      "[ 0.5   0.75] target -1.0 sum -0.10875 update 0.0\n",
      "[ 2.   1.5] target -1.0 sum 0.0165 update -0.02\n",
      "Updated WEIGHTS [-0.2    0.014  0.029]\n",
      "[ 1.5  2. ] target -1.0 sum -0.121 update 0.0\n",
      "[ 2.3  1.8] target 1.0 sum -0.1156 update 0.02\n",
      "Updated WEIGHTS [-0.18   0.06   0.065]\n",
      "EPOCHS 36\n",
      "[ 3.  3.] target 1.0 sum 0.195 update 0.0\n",
      "[ 3.5  2.5] target 1.0 sum 0.1925 update 0.0\n",
      "[ 1.   0.5] target -1.0 sum -0.0875 update 0.0\n",
      "[ 0.5   0.75] target -1.0 sum -0.10125 update 0.0\n",
      "[ 2.   1.5] target -1.0 sum 0.0375 update -0.02\n",
      "Updated WEIGHTS [-0.2    0.02   0.035]\n",
      "[ 1.5  2. ] target -1.0 sum -0.1 update 0.0\n",
      "[ 2.3  1.8] target 1.0 sum -0.091 update 0.02\n",
      "Updated WEIGHTS [-0.18   0.066  0.071]\n",
      "EPOCHS 37\n",
      "[ 3.  3.] target 1.0 sum 0.231 update 0.0\n",
      "[ 3.5  2.5] target 1.0 sum 0.2285 update 0.0\n",
      "[ 1.   0.5] target -1.0 sum -0.0785 update 0.0\n",
      "[ 0.5   0.75] target -1.0 sum -0.09375 update 0.0\n",
      "[ 2.   1.5] target -1.0 sum 0.0585 update -0.02\n",
      "Updated WEIGHTS [-0.2    0.026  0.041]\n",
      "[ 1.5  2. ] target -1.0 sum -0.079 update 0.0\n",
      "[ 2.3  1.8] target 1.0 sum -0.0664 update 0.02\n",
      "Updated WEIGHTS [-0.18   0.072  0.077]\n",
      "EPOCHS 38\n",
      "[ 3.  3.] target 1.0 sum 0.267 update 0.0\n",
      "[ 3.5  2.5] target 1.0 sum 0.2645 update 0.0\n",
      "[ 1.   0.5] target -1.0 sum -0.0695 update 0.0\n",
      "[ 0.5   0.75] target -1.0 sum -0.08625 update 0.0\n",
      "[ 2.   1.5] target -1.0 sum 0.0795 update -0.02\n",
      "Updated WEIGHTS [-0.2    0.032  0.047]\n",
      "[ 1.5  2. ] target -1.0 sum -0.058 update 0.0\n",
      "[ 2.3  1.8] target 1.0 sum -0.0418 update 0.02\n",
      "Updated WEIGHTS [-0.18   0.078  0.083]\n",
      "EPOCHS 39\n",
      "[ 3.  3.] target 1.0 sum 0.303 update 0.0\n",
      "[ 3.5  2.5] target 1.0 sum 0.3005 update 0.0\n",
      "[ 1.   0.5] target -1.0 sum -0.0605 update 0.0\n",
      "[ 0.5   0.75] target -1.0 sum -0.07875 update 0.0\n",
      "[ 2.   1.5] target -1.0 sum 0.1005 update -0.02\n",
      "Updated WEIGHTS [-0.2    0.038  0.053]\n",
      "[ 1.5  2. ] target -1.0 sum -0.037 update 0.0\n",
      "[ 2.3  1.8] target 1.0 sum -0.0172 update 0.02\n",
      "Updated WEIGHTS [-0.18   0.084  0.089]\n",
      "EPOCHS 40\n",
      "[ 3.  3.] target 1.0 sum 0.339 update 0.0\n",
      "[ 3.5  2.5] target 1.0 sum 0.3365 update 0.0\n",
      "[ 1.   0.5] target -1.0 sum -0.0515 update 0.0\n",
      "[ 0.5   0.75] target -1.0 sum -0.07125 update 0.0\n",
      "[ 2.   1.5] target -1.0 sum 0.1215 update -0.02\n",
      "Updated WEIGHTS [-0.2    0.044  0.059]\n",
      "[ 1.5  2. ] target -1.0 sum -0.016 update 0.0\n",
      "[ 2.3  1.8] target 1.0 sum 0.0074 update 0.0\n",
      "EPOCHS 41\n",
      "[ 3.  3.] target 1.0 sum 0.109 update 0.0\n",
      "[ 3.5  2.5] target 1.0 sum 0.1015 update 0.0\n",
      "[ 1.   0.5] target -1.0 sum -0.1265 update 0.0\n",
      "[ 0.5   0.75] target -1.0 sum -0.13375 update 0.0\n",
      "[ 2.   1.5] target -1.0 sum -0.0235 update 0.0\n",
      "[ 1.5  2. ] target -1.0 sum -0.016 update 0.0\n",
      "[ 2.3  1.8] target 1.0 sum 0.0074 update 0.0\n"
     ]
    }
   ],
   "source": [
    "train(data[:, :2], data[:, 2], epochs=41)"
   ]
  },
  {
   "cell_type": "code",
   "execution_count": 10,
   "metadata": {
    "collapsed": false
   },
   "outputs": [
    {
     "name": "stdout",
     "output_type": "stream",
     "text": [
      "[5, 3, 2, 3, 3, 2, 2, 2, 2, 3, 2, 2, 2, 3, 2, 2, 2, 2, 2, 2, 3, 2, 2, 2, 2, 2, 3, 2, 2, 2, 2, 2, 2, 3, 2, 2, 2, 2, 2, 1, 0]\n"
     ]
    }
   ],
   "source": [
    "print(errors_log)"
   ]
  },
  {
   "cell_type": "code",
   "execution_count": 11,
   "metadata": {
    "collapsed": false
   },
   "outputs": [
    {
     "name": "stdout",
     "output_type": "stream",
     "text": [
      "[-0.2    0.044  0.059]\n"
     ]
    }
   ],
   "source": [
    "print(weights)"
   ]
  },
  {
   "cell_type": "code",
   "execution_count": 12,
   "metadata": {
    "collapsed": false,
    "scrolled": true
   },
   "outputs": [
    {
     "data": {
      "image/png": "[encoded data removed]",
      "text/plain": [
       "<matplotlib.figure.Figure at 0x2689add7e80>"
      ]
     },
     "metadata": {},
     "output_type": "display_data"
    }
   ],
   "source": [
    "fig = plt.figure()\n",
    "ax = fig.add_subplot(111)\n",
    "y_intercept = np.array([0, - weights[0] / weights[2]])\n",
    "x_intercept = np.array([- weights[0] / weights[1], 0])\n",
    "line, = ax.plot(y_intercept, x_intercept, 'bs-', picker=5)\n",
    "\n",
    "ax.scatter(pos[:,0], pos[:, 1], label=\"pos\")\n",
    "ax.scatter(neg[:,0], neg[:, 1], label=\"neg\")\n",
    "\n",
    "plt.show()"
   ]
  },
  {
   "cell_type": "code",
   "execution_count": 13,
   "metadata": {
    "collapsed": false
   },
   "outputs": [
    {
     "name": "stdout",
     "output_type": "stream",
     "text": [
      "-0.745762711864\n"
     ]
    }
   ],
   "source": [
    "# gradient\n",
    "print(- weights[1] / weights[2])"
   ]
  },
  {
   "cell_type": "code",
   "execution_count": 14,
   "metadata": {
    "collapsed": false
   },
   "outputs": [
    {
     "name": "stdout",
     "output_type": "stream",
     "text": [
      "3.38983050847\n"
     ]
    }
   ],
   "source": [
    "# y-intercept\n",
    "print(- weights[0] / weights[2])"
   ]
  }
 ],
 "metadata": {
  "anaconda-cloud": {},
  "kernelspec": {
   "display_name": "Python [default]",
   "language": "python",
   "name": "python3"
  },
  "language_info": {
   "codemirror_mode": {
    "name": "ipython",
    "version": 3
   },
   "file_extension": ".py",
   "mimetype": "text/x-python",
   "name": "python",
   "nbconvert_exporter": "python",
   "pygments_lexer": "ipython3",
   "version": "3.5.2"
  }
 },
 "nbformat": 4,
 "nbformat_minor": 1
}
